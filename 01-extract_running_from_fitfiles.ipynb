{
 "cells": [
  {
   "cell_type": "code",
   "execution_count": null,
   "id": "3df298b4",
   "metadata": {},
   "outputs": [],
   "source": [
    "import pandas as pd\n",
    "import numpy as np\n",
    "import fitparse\n",
    "import math\n",
    "import plotnine as p9\n",
    "import os\n",
    "import fit_functions\n",
    "from pathlib import Path"
   ]
  },
  {
   "cell_type": "code",
   "execution_count": null,
   "id": "57ed55a9",
   "metadata": {},
   "outputs": [],
   "source": [
    "fit_path = r'C:\\Users\\offic\\HealthData\\FitFiles\\Activities'"
   ]
  },
  {
   "cell_type": "code",
   "execution_count": null,
   "id": "25724940",
   "metadata": {},
   "outputs": [],
   "source": [
    "dateien = os.listdir(fit_path)\n",
    "dateien = [datei for datei in dateien if '.fit' in datei]\n",
    "print(f\"Anzahl:{len(dateien)}\")\n",
    "dateien = pd.DataFrame(dateien, columns=['short'])\n",
    "dateien['long'] = dateien['short'].apply(lambda x: str(Path(fit_path, x)))\n",
    "sport = []\n",
    "datum =[]\n",
    "for x, datei in dateien.iterrows():\n",
    "\n",
    "    tsport = fit_functions.fit_sport(str(datei['long']))\n",
    "    tdatum = fit_functions.fit_date(str(datei['long']))\n",
    "    sport.append(tsport)\n",
    "    datum.append(tdatum)\n",
    "    fit_functions.print_progress_bar(x+1,len(dateien),datei['short'], tsport, tdatum)"
   ]
  },
  {
   "cell_type": "code",
   "execution_count": null,
   "id": "97baea84",
   "metadata": {},
   "outputs": [],
   "source": [
    "df_sport = pd.DataFrame(sport, columns=['sport'])\n",
    "df_datum = pd.DataFrame(datum, columns=['datum'])\n",
    "df_fitfiles = pd.concat([dateien, df_sport, df_datum], axis=1)\n",
    "df_fitfiles['datum']=pd.to_datetime(df_fitfiles['datum'])\n",
    "df_fitfiles.to_parquet('df_fitfiles.parquet')"
   ]
  },
  {
   "cell_type": "code",
   "execution_count": null,
   "id": "657aed44",
   "metadata": {},
   "outputs": [],
   "source": []
  }
 ],
 "metadata": {
  "kernelspec": {
   "display_name": "Python 3",
   "language": "python",
   "name": "python3"
  },
  "language_info": {
   "codemirror_mode": {
    "name": "ipython",
    "version": 3
   },
   "file_extension": ".py",
   "mimetype": "text/x-python",
   "name": "python",
   "nbconvert_exporter": "python",
   "pygments_lexer": "ipython3",
   "version": "3.12.8"
  }
 },
 "nbformat": 4,
 "nbformat_minor": 5
}
